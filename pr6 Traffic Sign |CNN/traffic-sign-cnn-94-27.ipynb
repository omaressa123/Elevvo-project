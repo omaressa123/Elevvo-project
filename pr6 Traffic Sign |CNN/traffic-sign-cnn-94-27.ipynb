{
 "cells": [
  {
   "cell_type": "markdown",
   "id": "c741f601",
   "metadata": {
    "papermill": {
     "duration": 0.004764,
     "end_time": "2025-09-21T21:00:53.012198",
     "exception": false,
     "start_time": "2025-09-21T21:00:53.007434",
     "status": "completed"
    },
    "tags": []
   },
   "source": [
    "<!-- Explanation Card -->\n",
    "<style>\n",
    ".explanation-card {\n",
    "  max-width: 900px;\n",
    "  margin: 22px auto;\n",
    "  background: linear-gradient(180deg, #1e0033 0%, #0a0014 100%);\n",
    "  color: #f5f5f5;\n",
    "  border-radius: 16px;\n",
    "  padding: 26px 32px;\n",
    "  box-shadow: 0 6px 24px rgba(0,0,0,0.6);\n",
    "  font-family: -apple-system, BlinkMacSystemFont, \"Segoe UI\", Roboto, \"Helvetica Neue\", Arial;\n",
    "  line-height: 1.8;\n",
    "  border: 1px solid rgba(255,255,255,0.12);\n",
    "}\n",
    ".explanation-card h2 {\n",
    "  font-size: 22px;\n",
    "  margin-bottom: 14px;\n",
    "  font-weight: 700;\n",
    "  color: #c77dff;\n",
    "  display: flex;\n",
    "  align-items: center;\n",
    "  gap: 10px;\n",
    "}\n",
    ".explanation-card ul {\n",
    "  margin: 0;\n",
    "  padding-left: 22px;\n",
    "}\n",
    ".explanation-card li {\n",
    "  margin-bottom: 10px;\n",
    "  font-size: 15px;\n",
    "}\n",
    "</style>\n",
    "\n",
    "<div class=\"explanation-card\">\n",
    "  <h2>🔎 Explanation</h2>\n",
    "  <ul>\n",
    "    <li><strong>Resizing & Normalization</strong> → images are resized to <code>32x32</code> and scaled to <code>[0,1]</code>.</li>\n",
    "    <li><strong>Data Augmentation</strong> → improves generalization with small random shifts/rotations.</li>\n",
    "    <li><strong>CNN Architecture</strong> → 3 convolutional layers + batch norm + dropout + dense layers.</li>\n",
    "    <li><strong>Evaluation</strong> → accuracy curve, loss curve, confusion matrix, classification report.</li>\n",
    "  </ul>\n",
    "</div>\n"
   ]
  },
  {
   "cell_type": "code",
   "execution_count": 1,
   "id": "fb0ba813",
   "metadata": {
    "_cell_guid": "b1076dfc-b9ad-4769-8c92-a6c4dae69d19",
    "_uuid": "8f2839f25d086af736a60e9eeb907d3b93b6e0e5",
    "execution": {
     "iopub.execute_input": "2025-09-21T21:00:53.020989Z",
     "iopub.status.busy": "2025-09-21T21:00:53.020782Z",
     "iopub.status.idle": "2025-09-21T21:01:17.720163Z",
     "shell.execute_reply": "2025-09-21T21:01:17.719364Z"
    },
    "papermill": {
     "duration": 24.705267,
     "end_time": "2025-09-21T21:01:17.721641",
     "exception": false,
     "start_time": "2025-09-21T21:00:53.016374",
     "status": "completed"
    },
    "tags": []
   },
   "outputs": [
    {
     "name": "stderr",
     "output_type": "stream",
     "text": [
      "2025-09-21 21:01:01.641095: E external/local_xla/xla/stream_executor/cuda/cuda_fft.cc:477] Unable to register cuFFT factory: Attempting to register factory for plugin cuFFT when one has already been registered\n",
      "WARNING: All log messages before absl::InitializeLog() is called are written to STDERR\n",
      "E0000 00:00:1758488462.017389      19 cuda_dnn.cc:8310] Unable to register cuDNN factory: Attempting to register factory for plugin cuDNN when one has already been registered\n",
      "E0000 00:00:1758488462.120815      19 cuda_blas.cc:1418] Unable to register cuBLAS factory: Attempting to register factory for plugin cuBLAS when one has already been registered\n"
     ]
    }
   ],
   "source": [
    "import os\n",
    "import cv2\n",
    "import PIL\n",
    "import time\n",
    "import zipfile\n",
    "import random\n",
    "import numpy as np\n",
    "import pandas as pd\n",
    "import matplotlib.pyplot as plt\n",
    "import seaborn as sns\n",
    "import shutil\n",
    "import tensorflow as tf\n",
    "import pathlib\n",
    "from sklearn.model_selection import train_test_split\n",
    "from sklearn.metrics import classification_report, confusion_matrix\n",
    "from tensorflow.keras.utils import to_categorical\n",
    "from tensorflow.keras.models import Sequential\n",
    "from tensorflow.keras.layers import Conv2D, MaxPooling2D, Flatten, Dense, Dropout, BatchNormalization\n",
    "from tensorflow.keras.preprocessing.image import ImageDataGenerator\n",
    "\n",
    "import warnings\n",
    "warnings.filterwarnings('ignore')"
   ]
  },
  {
   "cell_type": "code",
   "execution_count": 2,
   "id": "f3fee56d",
   "metadata": {
    "execution": {
     "iopub.execute_input": "2025-09-21T21:01:17.731432Z",
     "iopub.status.busy": "2025-09-21T21:01:17.730391Z",
     "iopub.status.idle": "2025-09-21T21:01:17.734140Z",
     "shell.execute_reply": "2025-09-21T21:01:17.733597Z"
    },
    "papermill": {
     "duration": 0.009161,
     "end_time": "2025-09-21T21:01:17.735153",
     "exception": false,
     "start_time": "2025-09-21T21:01:17.725992",
     "status": "completed"
    },
    "tags": []
   },
   "outputs": [],
   "source": [
    "train_path =\"../input/traffic-sign-classification-and-recognition/train_dataset/train\"\n",
    "test_path =\"../input/traffic-sign-classification-and-recognition/test_dataset/test/\""
   ]
  },
  {
   "cell_type": "code",
   "execution_count": 3,
   "id": "df8a9b10",
   "metadata": {
    "execution": {
     "iopub.execute_input": "2025-09-21T21:01:17.743388Z",
     "iopub.status.busy": "2025-09-21T21:01:17.743202Z",
     "iopub.status.idle": "2025-09-21T21:01:17.755758Z",
     "shell.execute_reply": "2025-09-21T21:01:17.755215Z"
    },
    "papermill": {
     "duration": 0.017813,
     "end_time": "2025-09-21T21:01:17.756713",
     "exception": false,
     "start_time": "2025-09-21T21:01:17.738900",
     "status": "completed"
    },
    "tags": []
   },
   "outputs": [],
   "source": [
    "CLASSES = os.listdir(train_path)\n",
    "NUM_CLASSES = len(CLASSES)\n",
    "\n",
    "HEIGHT,WIDTH = 32,32\n",
    "BATCH_SIZE = 32\n",
    "SPLIT = 0.2"
   ]
  },
  {
   "cell_type": "code",
   "execution_count": 4,
   "id": "dc0e7f07",
   "metadata": {
    "execution": {
     "iopub.execute_input": "2025-09-21T21:01:17.764911Z",
     "iopub.status.busy": "2025-09-21T21:01:17.764713Z",
     "iopub.status.idle": "2025-09-21T21:01:17.767951Z",
     "shell.execute_reply": "2025-09-21T21:01:17.767442Z"
    },
    "papermill": {
     "duration": 0.008501,
     "end_time": "2025-09-21T21:01:17.768924",
     "exception": false,
     "start_time": "2025-09-21T21:01:17.760423",
     "status": "completed"
    },
    "tags": []
   },
   "outputs": [],
   "source": [
    "train_datagen = tf.keras.preprocessing.image.ImageDataGenerator(\n",
    "    rescale=1./255,\n",
    "    rotation_range=20,\n",
    "    horizontal_flip=True,\n",
    "    validation_split=SPLIT)\n"
   ]
  },
  {
   "cell_type": "code",
   "execution_count": 5,
   "id": "17a2aafb",
   "metadata": {
    "execution": {
     "iopub.execute_input": "2025-09-21T21:01:17.777636Z",
     "iopub.status.busy": "2025-09-21T21:01:17.777034Z",
     "iopub.status.idle": "2025-09-21T21:01:22.151189Z",
     "shell.execute_reply": "2025-09-21T21:01:22.150437Z"
    },
    "papermill": {
     "duration": 4.379718,
     "end_time": "2025-09-21T21:01:22.152423",
     "exception": false,
     "start_time": "2025-09-21T21:01:17.772705",
     "status": "completed"
    },
    "tags": []
   },
   "outputs": [
    {
     "name": "stdout",
     "output_type": "stream",
     "text": [
      "Found 4823 images belonging to 10 classes.\n"
     ]
    }
   ],
   "source": [
    "train_ds = train_datagen.flow_from_directory(\n",
    "    train_path,\n",
    "    target_size = (HEIGHT,WIDTH),\n",
    "    batch_size = BATCH_SIZE,\n",
    "    subset = \"training\",\n",
    "    class_mode = \"categorical\",\n",
    "    shuffle = True\n",
    ")"
   ]
  },
  {
   "cell_type": "code",
   "execution_count": 6,
   "id": "07fdb992",
   "metadata": {
    "execution": {
     "iopub.execute_input": "2025-09-21T21:01:22.161978Z",
     "iopub.status.busy": "2025-09-21T21:01:22.161768Z",
     "iopub.status.idle": "2025-09-21T21:01:23.886031Z",
     "shell.execute_reply": "2025-09-21T21:01:23.885441Z"
    },
    "papermill": {
     "duration": 1.730507,
     "end_time": "2025-09-21T21:01:23.887224",
     "exception": false,
     "start_time": "2025-09-21T21:01:22.156717",
     "status": "completed"
    },
    "tags": []
   },
   "outputs": [
    {
     "name": "stdout",
     "output_type": "stream",
     "text": [
      "Found 1201 images belonging to 10 classes.\n"
     ]
    }
   ],
   "source": [
    "val_ds = train_datagen.flow_from_directory(\n",
    "    train_path,\n",
    "    target_size = (HEIGHT,WIDTH),\n",
    "    batch_size = BATCH_SIZE,\n",
    "    subset = \"validation\",\n",
    "    class_mode = \"categorical\",\n",
    "    shuffle = True\n",
    ")"
   ]
  },
  {
   "cell_type": "code",
   "execution_count": 7,
   "id": "55270667",
   "metadata": {
    "execution": {
     "iopub.execute_input": "2025-09-21T21:01:23.896774Z",
     "iopub.status.busy": "2025-09-21T21:01:23.896532Z",
     "iopub.status.idle": "2025-09-21T21:01:24.251817Z",
     "shell.execute_reply": "2025-09-21T21:01:24.251067Z"
    },
    "papermill": {
     "duration": 0.361489,
     "end_time": "2025-09-21T21:01:24.252956",
     "exception": false,
     "start_time": "2025-09-21T21:01:23.891467",
     "status": "completed"
    },
    "tags": []
   },
   "outputs": [
    {
     "name": "stdout",
     "output_type": "stream",
     "text": [
      "Found 324 images belonging to 10 classes.\n"
     ]
    }
   ],
   "source": [
    "test_datagen = tf.keras.preprocessing.image.ImageDataGenerator(\n",
    "    rescale=1./255)\n",
    "test_ds = test_datagen.flow_from_directory(\n",
    "    test_path,\n",
    "    target_size = (HEIGHT,WIDTH),\n",
    "    shuffle = False\n",
    ")"
   ]
  },
  {
   "cell_type": "code",
   "execution_count": 8,
   "id": "ad1a65e1",
   "metadata": {
    "execution": {
     "iopub.execute_input": "2025-09-21T21:01:24.261631Z",
     "iopub.status.busy": "2025-09-21T21:01:24.261417Z",
     "iopub.status.idle": "2025-09-21T21:01:24.265840Z",
     "shell.execute_reply": "2025-09-21T21:01:24.265221Z"
    },
    "papermill": {
     "duration": 0.00982,
     "end_time": "2025-09-21T21:01:24.266902",
     "exception": false,
     "start_time": "2025-09-21T21:01:24.257082",
     "status": "completed"
    },
    "tags": []
   },
   "outputs": [
    {
     "name": "stdout",
     "output_type": "stream",
     "text": [
      "Total Classes: 10\n"
     ]
    }
   ],
   "source": [
    "classes = os.listdir(train_path)\n",
    "print(\"Total Classes:\", len(classes))"
   ]
  },
  {
   "cell_type": "code",
   "execution_count": 9,
   "id": "2182cb90",
   "metadata": {
    "execution": {
     "iopub.execute_input": "2025-09-21T21:01:24.275229Z",
     "iopub.status.busy": "2025-09-21T21:01:24.275015Z",
     "iopub.status.idle": "2025-09-21T21:01:24.278174Z",
     "shell.execute_reply": "2025-09-21T21:01:24.277632Z"
    },
    "papermill": {
     "duration": 0.00839,
     "end_time": "2025-09-21T21:01:24.279168",
     "exception": false,
     "start_time": "2025-09-21T21:01:24.270778",
     "status": "completed"
    },
    "tags": []
   },
   "outputs": [],
   "source": [
    "images = []\n",
    "labels = []\n",
    "\n",
    "img_size = 32  # resize to 32x32"
   ]
  },
  {
   "cell_type": "code",
   "execution_count": 10,
   "id": "c6d95a77",
   "metadata": {
    "execution": {
     "iopub.execute_input": "2025-09-21T21:01:24.287623Z",
     "iopub.status.busy": "2025-09-21T21:01:24.287444Z",
     "iopub.status.idle": "2025-09-21T21:01:58.992471Z",
     "shell.execute_reply": "2025-09-21T21:01:58.991728Z"
    },
    "papermill": {
     "duration": 34.714063,
     "end_time": "2025-09-21T21:01:58.997110",
     "exception": false,
     "start_time": "2025-09-21T21:01:24.283047",
     "status": "completed"
    },
    "tags": []
   },
   "outputs": [
    {
     "name": "stdout",
     "output_type": "stream",
     "text": [
      "Dataset Shape: (6024, 32, 32, 3) (6024,)\n"
     ]
    }
   ],
   "source": [
    "for label, folder in enumerate(classes):\n",
    "    folder_path = os.path.join(train_path, folder)\n",
    "    for img_name in os.listdir(folder_path):\n",
    "        try:\n",
    "            img_path = os.path.join(folder_path, img_name)\n",
    "            img = cv2.imread(img_path)\n",
    "            img = cv2.resize(img, (img_size, img_size))\n",
    "            images.append(img)\n",
    "            labels.append(label)\n",
    "        except:\n",
    "            continue\n",
    "\n",
    "images = np.array(images)\n",
    "labels = np.array(labels)\n",
    "\n",
    "print(\"Dataset Shape:\", images.shape, labels.shape)\n"
   ]
  },
  {
   "cell_type": "code",
   "execution_count": 11,
   "id": "77f05dbd",
   "metadata": {
    "execution": {
     "iopub.execute_input": "2025-09-21T21:01:59.005948Z",
     "iopub.status.busy": "2025-09-21T21:01:59.005708Z",
     "iopub.status.idle": "2025-09-21T21:01:59.056757Z",
     "shell.execute_reply": "2025-09-21T21:01:59.056100Z"
    },
    "papermill": {
     "duration": 0.05701,
     "end_time": "2025-09-21T21:01:59.058168",
     "exception": false,
     "start_time": "2025-09-21T21:01:59.001158",
     "status": "completed"
    },
    "tags": []
   },
   "outputs": [],
   "source": [
    "# Normalize images\n",
    "images = images / 255.0"
   ]
  },
  {
   "cell_type": "code",
   "execution_count": 12,
   "id": "614bc6e4",
   "metadata": {
    "execution": {
     "iopub.execute_input": "2025-09-21T21:01:59.067412Z",
     "iopub.status.busy": "2025-09-21T21:01:59.067193Z",
     "iopub.status.idle": "2025-09-21T21:01:59.078591Z",
     "shell.execute_reply": "2025-09-21T21:01:59.077945Z"
    },
    "papermill": {
     "duration": 0.017267,
     "end_time": "2025-09-21T21:01:59.079817",
     "exception": false,
     "start_time": "2025-09-21T21:01:59.062550",
     "status": "completed"
    },
    "tags": []
   },
   "outputs": [],
   "source": [
    "# One-hot encode labels\n",
    "num_classes = len(np.unique(labels))\n",
    "labels_cat = to_categorical(labels, num_classes)"
   ]
  },
  {
   "cell_type": "code",
   "execution_count": 13,
   "id": "699ee789",
   "metadata": {
    "execution": {
     "iopub.execute_input": "2025-09-21T21:01:59.088626Z",
     "iopub.status.busy": "2025-09-21T21:01:59.088395Z",
     "iopub.status.idle": "2025-09-21T21:01:59.137935Z",
     "shell.execute_reply": "2025-09-21T21:01:59.137076Z"
    },
    "papermill": {
     "duration": 0.055148,
     "end_time": "2025-09-21T21:01:59.139142",
     "exception": false,
     "start_time": "2025-09-21T21:01:59.083994",
     "status": "completed"
    },
    "tags": []
   },
   "outputs": [
    {
     "name": "stdout",
     "output_type": "stream",
     "text": [
      "Train shape: (4819, 32, 32, 3) (4819, 10)\n",
      "Test shape: (1205, 32, 32, 3) (1205, 10)\n"
     ]
    }
   ],
   "source": [
    "# Train-test split\n",
    "X_train, X_test, y_train, y_test = train_test_split(images, labels_cat, test_size=0.2, random_state=42)\n",
    "\n",
    "print(\"Train shape:\", X_train.shape, y_train.shape)\n",
    "print(\"Test shape:\", X_test.shape, y_test.shape)"
   ]
  },
  {
   "cell_type": "markdown",
   "id": "b5732aa1",
   "metadata": {
    "papermill": {
     "duration": 0.003933,
     "end_time": "2025-09-21T21:01:59.147296",
     "exception": false,
     "start_time": "2025-09-21T21:01:59.143363",
     "status": "completed"
    },
    "tags": []
   },
   "source": [
    "## data agumentation"
   ]
  },
  {
   "cell_type": "code",
   "execution_count": 14,
   "id": "52255140",
   "metadata": {
    "execution": {
     "iopub.execute_input": "2025-09-21T21:01:59.156086Z",
     "iopub.status.busy": "2025-09-21T21:01:59.155868Z",
     "iopub.status.idle": "2025-09-21T21:01:59.202931Z",
     "shell.execute_reply": "2025-09-21T21:01:59.202112Z"
    },
    "papermill": {
     "duration": 0.052988,
     "end_time": "2025-09-21T21:01:59.204292",
     "exception": false,
     "start_time": "2025-09-21T21:01:59.151304",
     "status": "completed"
    },
    "tags": []
   },
   "outputs": [],
   "source": [
    "datagen = ImageDataGenerator(rotation_range=10,\n",
    "                             width_shift_range=0.1,\n",
    "                             height_shift_range=0.1,\n",
    "                             zoom_range=0.1)\n",
    "\n",
    "datagen.fit(X_train)"
   ]
  },
  {
   "cell_type": "markdown",
   "id": "2c3cab52",
   "metadata": {
    "papermill": {
     "duration": 0.003913,
     "end_time": "2025-09-21T21:01:59.212612",
     "exception": false,
     "start_time": "2025-09-21T21:01:59.208699",
     "status": "completed"
    },
    "tags": []
   },
   "source": [
    "## Build CNN Model"
   ]
  },
  {
   "cell_type": "code",
   "execution_count": 15,
   "id": "f4e2dfb7",
   "metadata": {
    "execution": {
     "iopub.execute_input": "2025-09-21T21:01:59.221421Z",
     "iopub.status.busy": "2025-09-21T21:01:59.220999Z",
     "iopub.status.idle": "2025-09-21T21:02:02.915834Z",
     "shell.execute_reply": "2025-09-21T21:02:02.915256Z"
    },
    "papermill": {
     "duration": 3.700415,
     "end_time": "2025-09-21T21:02:02.916867",
     "exception": false,
     "start_time": "2025-09-21T21:01:59.216452",
     "status": "completed"
    },
    "tags": []
   },
   "outputs": [
    {
     "name": "stderr",
     "output_type": "stream",
     "text": [
      "I0000 00:00:1758488521.171491      19 gpu_device.cc:2022] Created device /job:localhost/replica:0/task:0/device:GPU:0 with 13942 MB memory:  -> device: 0, name: Tesla T4, pci bus id: 0000:00:04.0, compute capability: 7.5\n",
      "I0000 00:00:1758488521.172152      19 gpu_device.cc:2022] Created device /job:localhost/replica:0/task:0/device:GPU:1 with 13942 MB memory:  -> device: 1, name: Tesla T4, pci bus id: 0000:00:05.0, compute capability: 7.5\n"
     ]
    },
    {
     "data": {
      "text/html": [
       "<pre style=\"white-space:pre;overflow-x:auto;line-height:normal;font-family:Menlo,'DejaVu Sans Mono',consolas,'Courier New',monospace\"><span style=\"font-weight: bold\">Model: \"sequential\"</span>\n",
       "</pre>\n"
      ],
      "text/plain": [
       "\u001b[1mModel: \"sequential\"\u001b[0m\n"
      ]
     },
     "metadata": {},
     "output_type": "display_data"
    },
    {
     "data": {
      "text/html": [
       "<pre style=\"white-space:pre;overflow-x:auto;line-height:normal;font-family:Menlo,'DejaVu Sans Mono',consolas,'Courier New',monospace\">┏━━━━━━━━━━━━━━━━━━━━━━━━━━━━━━━━━┳━━━━━━━━━━━━━━━━━━━━━━━━┳━━━━━━━━━━━━━━━┓\n",
       "┃<span style=\"font-weight: bold\"> Layer (type)                    </span>┃<span style=\"font-weight: bold\"> Output Shape           </span>┃<span style=\"font-weight: bold\">       Param # </span>┃\n",
       "┡━━━━━━━━━━━━━━━━━━━━━━━━━━━━━━━━━╇━━━━━━━━━━━━━━━━━━━━━━━━╇━━━━━━━━━━━━━━━┩\n",
       "│ conv2d (<span style=\"color: #0087ff; text-decoration-color: #0087ff\">Conv2D</span>)                 │ (<span style=\"color: #00d7ff; text-decoration-color: #00d7ff\">None</span>, <span style=\"color: #00af00; text-decoration-color: #00af00\">30</span>, <span style=\"color: #00af00; text-decoration-color: #00af00\">30</span>, <span style=\"color: #00af00; text-decoration-color: #00af00\">32</span>)     │           <span style=\"color: #00af00; text-decoration-color: #00af00\">896</span> │\n",
       "├─────────────────────────────────┼────────────────────────┼───────────────┤\n",
       "│ batch_normalization             │ (<span style=\"color: #00d7ff; text-decoration-color: #00d7ff\">None</span>, <span style=\"color: #00af00; text-decoration-color: #00af00\">30</span>, <span style=\"color: #00af00; text-decoration-color: #00af00\">30</span>, <span style=\"color: #00af00; text-decoration-color: #00af00\">32</span>)     │           <span style=\"color: #00af00; text-decoration-color: #00af00\">128</span> │\n",
       "│ (<span style=\"color: #0087ff; text-decoration-color: #0087ff\">BatchNormalization</span>)            │                        │               │\n",
       "├─────────────────────────────────┼────────────────────────┼───────────────┤\n",
       "│ max_pooling2d (<span style=\"color: #0087ff; text-decoration-color: #0087ff\">MaxPooling2D</span>)    │ (<span style=\"color: #00d7ff; text-decoration-color: #00d7ff\">None</span>, <span style=\"color: #00af00; text-decoration-color: #00af00\">15</span>, <span style=\"color: #00af00; text-decoration-color: #00af00\">15</span>, <span style=\"color: #00af00; text-decoration-color: #00af00\">32</span>)     │             <span style=\"color: #00af00; text-decoration-color: #00af00\">0</span> │\n",
       "├─────────────────────────────────┼────────────────────────┼───────────────┤\n",
       "│ conv2d_1 (<span style=\"color: #0087ff; text-decoration-color: #0087ff\">Conv2D</span>)               │ (<span style=\"color: #00d7ff; text-decoration-color: #00d7ff\">None</span>, <span style=\"color: #00af00; text-decoration-color: #00af00\">13</span>, <span style=\"color: #00af00; text-decoration-color: #00af00\">13</span>, <span style=\"color: #00af00; text-decoration-color: #00af00\">64</span>)     │        <span style=\"color: #00af00; text-decoration-color: #00af00\">18,496</span> │\n",
       "├─────────────────────────────────┼────────────────────────┼───────────────┤\n",
       "│ batch_normalization_1           │ (<span style=\"color: #00d7ff; text-decoration-color: #00d7ff\">None</span>, <span style=\"color: #00af00; text-decoration-color: #00af00\">13</span>, <span style=\"color: #00af00; text-decoration-color: #00af00\">13</span>, <span style=\"color: #00af00; text-decoration-color: #00af00\">64</span>)     │           <span style=\"color: #00af00; text-decoration-color: #00af00\">256</span> │\n",
       "│ (<span style=\"color: #0087ff; text-decoration-color: #0087ff\">BatchNormalization</span>)            │                        │               │\n",
       "├─────────────────────────────────┼────────────────────────┼───────────────┤\n",
       "│ max_pooling2d_1 (<span style=\"color: #0087ff; text-decoration-color: #0087ff\">MaxPooling2D</span>)  │ (<span style=\"color: #00d7ff; text-decoration-color: #00d7ff\">None</span>, <span style=\"color: #00af00; text-decoration-color: #00af00\">6</span>, <span style=\"color: #00af00; text-decoration-color: #00af00\">6</span>, <span style=\"color: #00af00; text-decoration-color: #00af00\">64</span>)       │             <span style=\"color: #00af00; text-decoration-color: #00af00\">0</span> │\n",
       "├─────────────────────────────────┼────────────────────────┼───────────────┤\n",
       "│ conv2d_2 (<span style=\"color: #0087ff; text-decoration-color: #0087ff\">Conv2D</span>)               │ (<span style=\"color: #00d7ff; text-decoration-color: #00d7ff\">None</span>, <span style=\"color: #00af00; text-decoration-color: #00af00\">4</span>, <span style=\"color: #00af00; text-decoration-color: #00af00\">4</span>, <span style=\"color: #00af00; text-decoration-color: #00af00\">128</span>)      │        <span style=\"color: #00af00; text-decoration-color: #00af00\">73,856</span> │\n",
       "├─────────────────────────────────┼────────────────────────┼───────────────┤\n",
       "│ batch_normalization_2           │ (<span style=\"color: #00d7ff; text-decoration-color: #00d7ff\">None</span>, <span style=\"color: #00af00; text-decoration-color: #00af00\">4</span>, <span style=\"color: #00af00; text-decoration-color: #00af00\">4</span>, <span style=\"color: #00af00; text-decoration-color: #00af00\">128</span>)      │           <span style=\"color: #00af00; text-decoration-color: #00af00\">512</span> │\n",
       "│ (<span style=\"color: #0087ff; text-decoration-color: #0087ff\">BatchNormalization</span>)            │                        │               │\n",
       "├─────────────────────────────────┼────────────────────────┼───────────────┤\n",
       "│ max_pooling2d_2 (<span style=\"color: #0087ff; text-decoration-color: #0087ff\">MaxPooling2D</span>)  │ (<span style=\"color: #00d7ff; text-decoration-color: #00d7ff\">None</span>, <span style=\"color: #00af00; text-decoration-color: #00af00\">2</span>, <span style=\"color: #00af00; text-decoration-color: #00af00\">2</span>, <span style=\"color: #00af00; text-decoration-color: #00af00\">128</span>)      │             <span style=\"color: #00af00; text-decoration-color: #00af00\">0</span> │\n",
       "├─────────────────────────────────┼────────────────────────┼───────────────┤\n",
       "│ flatten (<span style=\"color: #0087ff; text-decoration-color: #0087ff\">Flatten</span>)               │ (<span style=\"color: #00d7ff; text-decoration-color: #00d7ff\">None</span>, <span style=\"color: #00af00; text-decoration-color: #00af00\">512</span>)            │             <span style=\"color: #00af00; text-decoration-color: #00af00\">0</span> │\n",
       "├─────────────────────────────────┼────────────────────────┼───────────────┤\n",
       "│ dense (<span style=\"color: #0087ff; text-decoration-color: #0087ff\">Dense</span>)                   │ (<span style=\"color: #00d7ff; text-decoration-color: #00d7ff\">None</span>, <span style=\"color: #00af00; text-decoration-color: #00af00\">256</span>)            │       <span style=\"color: #00af00; text-decoration-color: #00af00\">131,328</span> │\n",
       "├─────────────────────────────────┼────────────────────────┼───────────────┤\n",
       "│ dropout (<span style=\"color: #0087ff; text-decoration-color: #0087ff\">Dropout</span>)               │ (<span style=\"color: #00d7ff; text-decoration-color: #00d7ff\">None</span>, <span style=\"color: #00af00; text-decoration-color: #00af00\">256</span>)            │             <span style=\"color: #00af00; text-decoration-color: #00af00\">0</span> │\n",
       "├─────────────────────────────────┼────────────────────────┼───────────────┤\n",
       "│ dense_1 (<span style=\"color: #0087ff; text-decoration-color: #0087ff\">Dense</span>)                 │ (<span style=\"color: #00d7ff; text-decoration-color: #00d7ff\">None</span>, <span style=\"color: #00af00; text-decoration-color: #00af00\">10</span>)             │         <span style=\"color: #00af00; text-decoration-color: #00af00\">2,570</span> │\n",
       "└─────────────────────────────────┴────────────────────────┴───────────────┘\n",
       "</pre>\n"
      ],
      "text/plain": [
       "┏━━━━━━━━━━━━━━━━━━━━━━━━━━━━━━━━━┳━━━━━━━━━━━━━━━━━━━━━━━━┳━━━━━━━━━━━━━━━┓\n",
       "┃\u001b[1m \u001b[0m\u001b[1mLayer (type)                   \u001b[0m\u001b[1m \u001b[0m┃\u001b[1m \u001b[0m\u001b[1mOutput Shape          \u001b[0m\u001b[1m \u001b[0m┃\u001b[1m \u001b[0m\u001b[1m      Param #\u001b[0m\u001b[1m \u001b[0m┃\n",
       "┡━━━━━━━━━━━━━━━━━━━━━━━━━━━━━━━━━╇━━━━━━━━━━━━━━━━━━━━━━━━╇━━━━━━━━━━━━━━━┩\n",
       "│ conv2d (\u001b[38;5;33mConv2D\u001b[0m)                 │ (\u001b[38;5;45mNone\u001b[0m, \u001b[38;5;34m30\u001b[0m, \u001b[38;5;34m30\u001b[0m, \u001b[38;5;34m32\u001b[0m)     │           \u001b[38;5;34m896\u001b[0m │\n",
       "├─────────────────────────────────┼────────────────────────┼───────────────┤\n",
       "│ batch_normalization             │ (\u001b[38;5;45mNone\u001b[0m, \u001b[38;5;34m30\u001b[0m, \u001b[38;5;34m30\u001b[0m, \u001b[38;5;34m32\u001b[0m)     │           \u001b[38;5;34m128\u001b[0m │\n",
       "│ (\u001b[38;5;33mBatchNormalization\u001b[0m)            │                        │               │\n",
       "├─────────────────────────────────┼────────────────────────┼───────────────┤\n",
       "│ max_pooling2d (\u001b[38;5;33mMaxPooling2D\u001b[0m)    │ (\u001b[38;5;45mNone\u001b[0m, \u001b[38;5;34m15\u001b[0m, \u001b[38;5;34m15\u001b[0m, \u001b[38;5;34m32\u001b[0m)     │             \u001b[38;5;34m0\u001b[0m │\n",
       "├─────────────────────────────────┼────────────────────────┼───────────────┤\n",
       "│ conv2d_1 (\u001b[38;5;33mConv2D\u001b[0m)               │ (\u001b[38;5;45mNone\u001b[0m, \u001b[38;5;34m13\u001b[0m, \u001b[38;5;34m13\u001b[0m, \u001b[38;5;34m64\u001b[0m)     │        \u001b[38;5;34m18,496\u001b[0m │\n",
       "├─────────────────────────────────┼────────────────────────┼───────────────┤\n",
       "│ batch_normalization_1           │ (\u001b[38;5;45mNone\u001b[0m, \u001b[38;5;34m13\u001b[0m, \u001b[38;5;34m13\u001b[0m, \u001b[38;5;34m64\u001b[0m)     │           \u001b[38;5;34m256\u001b[0m │\n",
       "│ (\u001b[38;5;33mBatchNormalization\u001b[0m)            │                        │               │\n",
       "├─────────────────────────────────┼────────────────────────┼───────────────┤\n",
       "│ max_pooling2d_1 (\u001b[38;5;33mMaxPooling2D\u001b[0m)  │ (\u001b[38;5;45mNone\u001b[0m, \u001b[38;5;34m6\u001b[0m, \u001b[38;5;34m6\u001b[0m, \u001b[38;5;34m64\u001b[0m)       │             \u001b[38;5;34m0\u001b[0m │\n",
       "├─────────────────────────────────┼────────────────────────┼───────────────┤\n",
       "│ conv2d_2 (\u001b[38;5;33mConv2D\u001b[0m)               │ (\u001b[38;5;45mNone\u001b[0m, \u001b[38;5;34m4\u001b[0m, \u001b[38;5;34m4\u001b[0m, \u001b[38;5;34m128\u001b[0m)      │        \u001b[38;5;34m73,856\u001b[0m │\n",
       "├─────────────────────────────────┼────────────────────────┼───────────────┤\n",
       "│ batch_normalization_2           │ (\u001b[38;5;45mNone\u001b[0m, \u001b[38;5;34m4\u001b[0m, \u001b[38;5;34m4\u001b[0m, \u001b[38;5;34m128\u001b[0m)      │           \u001b[38;5;34m512\u001b[0m │\n",
       "│ (\u001b[38;5;33mBatchNormalization\u001b[0m)            │                        │               │\n",
       "├─────────────────────────────────┼────────────────────────┼───────────────┤\n",
       "│ max_pooling2d_2 (\u001b[38;5;33mMaxPooling2D\u001b[0m)  │ (\u001b[38;5;45mNone\u001b[0m, \u001b[38;5;34m2\u001b[0m, \u001b[38;5;34m2\u001b[0m, \u001b[38;5;34m128\u001b[0m)      │             \u001b[38;5;34m0\u001b[0m │\n",
       "├─────────────────────────────────┼────────────────────────┼───────────────┤\n",
       "│ flatten (\u001b[38;5;33mFlatten\u001b[0m)               │ (\u001b[38;5;45mNone\u001b[0m, \u001b[38;5;34m512\u001b[0m)            │             \u001b[38;5;34m0\u001b[0m │\n",
       "├─────────────────────────────────┼────────────────────────┼───────────────┤\n",
       "│ dense (\u001b[38;5;33mDense\u001b[0m)                   │ (\u001b[38;5;45mNone\u001b[0m, \u001b[38;5;34m256\u001b[0m)            │       \u001b[38;5;34m131,328\u001b[0m │\n",
       "├─────────────────────────────────┼────────────────────────┼───────────────┤\n",
       "│ dropout (\u001b[38;5;33mDropout\u001b[0m)               │ (\u001b[38;5;45mNone\u001b[0m, \u001b[38;5;34m256\u001b[0m)            │             \u001b[38;5;34m0\u001b[0m │\n",
       "├─────────────────────────────────┼────────────────────────┼───────────────┤\n",
       "│ dense_1 (\u001b[38;5;33mDense\u001b[0m)                 │ (\u001b[38;5;45mNone\u001b[0m, \u001b[38;5;34m10\u001b[0m)             │         \u001b[38;5;34m2,570\u001b[0m │\n",
       "└─────────────────────────────────┴────────────────────────┴───────────────┘\n"
      ]
     },
     "metadata": {},
     "output_type": "display_data"
    },
    {
     "data": {
      "text/html": [
       "<pre style=\"white-space:pre;overflow-x:auto;line-height:normal;font-family:Menlo,'DejaVu Sans Mono',consolas,'Courier New',monospace\"><span style=\"font-weight: bold\"> Total params: </span><span style=\"color: #00af00; text-decoration-color: #00af00\">228,042</span> (890.79 KB)\n",
       "</pre>\n"
      ],
      "text/plain": [
       "\u001b[1m Total params: \u001b[0m\u001b[38;5;34m228,042\u001b[0m (890.79 KB)\n"
      ]
     },
     "metadata": {},
     "output_type": "display_data"
    },
    {
     "data": {
      "text/html": [
       "<pre style=\"white-space:pre;overflow-x:auto;line-height:normal;font-family:Menlo,'DejaVu Sans Mono',consolas,'Courier New',monospace\"><span style=\"font-weight: bold\"> Trainable params: </span><span style=\"color: #00af00; text-decoration-color: #00af00\">227,594</span> (889.04 KB)\n",
       "</pre>\n"
      ],
      "text/plain": [
       "\u001b[1m Trainable params: \u001b[0m\u001b[38;5;34m227,594\u001b[0m (889.04 KB)\n"
      ]
     },
     "metadata": {},
     "output_type": "display_data"
    },
    {
     "data": {
      "text/html": [
       "<pre style=\"white-space:pre;overflow-x:auto;line-height:normal;font-family:Menlo,'DejaVu Sans Mono',consolas,'Courier New',monospace\"><span style=\"font-weight: bold\"> Non-trainable params: </span><span style=\"color: #00af00; text-decoration-color: #00af00\">448</span> (1.75 KB)\n",
       "</pre>\n"
      ],
      "text/plain": [
       "\u001b[1m Non-trainable params: \u001b[0m\u001b[38;5;34m448\u001b[0m (1.75 KB)\n"
      ]
     },
     "metadata": {},
     "output_type": "display_data"
    }
   ],
   "source": [
    "model = Sequential([\n",
    "    Conv2D(32, (3,3), activation=\"relu\", input_shape=(img_size, img_size, 3)),\n",
    "    BatchNormalization(),\n",
    "    MaxPooling2D(2,2),\n",
    "    \n",
    "    Conv2D(64, (3,3), activation=\"relu\"),\n",
    "    BatchNormalization(),\n",
    "    MaxPooling2D(2,2),\n",
    "    \n",
    "    Conv2D(128, (3,3), activation=\"relu\"),\n",
    "    BatchNormalization(),\n",
    "    MaxPooling2D(2,2),\n",
    "    \n",
    "    Flatten(),\n",
    "    Dense(256, activation=\"relu\"),\n",
    "    Dropout(0.5),\n",
    "    Dense(num_classes, activation=\"softmax\")\n",
    "])\n",
    "\n",
    "model.compile(optimizer=\"adam\", loss=\"categorical_crossentropy\", metrics=[\"accuracy\"])\n",
    "model.summary()"
   ]
  },
  {
   "cell_type": "markdown",
   "id": "d3b14efe",
   "metadata": {
    "papermill": {
     "duration": 0.004418,
     "end_time": "2025-09-21T21:02:02.926521",
     "exception": false,
     "start_time": "2025-09-21T21:02:02.922103",
     "status": "completed"
    },
    "tags": []
   },
   "source": [
    "## Train model"
   ]
  },
  {
   "cell_type": "code",
   "execution_count": 16,
   "id": "64bbcf0e",
   "metadata": {
    "execution": {
     "iopub.execute_input": "2025-09-21T21:02:02.937474Z",
     "iopub.status.busy": "2025-09-21T21:02:02.936883Z",
     "iopub.status.idle": "2025-09-21T21:02:52.272247Z",
     "shell.execute_reply": "2025-09-21T21:02:52.271429Z"
    },
    "papermill": {
     "duration": 49.342316,
     "end_time": "2025-09-21T21:02:52.273447",
     "exception": false,
     "start_time": "2025-09-21T21:02:02.931131",
     "status": "completed"
    },
    "tags": []
   },
   "outputs": [
    {
     "name": "stdout",
     "output_type": "stream",
     "text": [
      "Epoch 1/15\n"
     ]
    },
    {
     "name": "stderr",
     "output_type": "stream",
     "text": [
      "WARNING: All log messages before absl::InitializeLog() is called are written to STDERR\n",
      "I0000 00:00:1758488526.805727      84 service.cc:148] XLA service 0x797c28008790 initialized for platform CUDA (this does not guarantee that XLA will be used). Devices:\n",
      "I0000 00:00:1758488526.807714      84 service.cc:156]   StreamExecutor device (0): Tesla T4, Compute Capability 7.5\n",
      "I0000 00:00:1758488526.807736      84 service.cc:156]   StreamExecutor device (1): Tesla T4, Compute Capability 7.5\n",
      "I0000 00:00:1758488527.307020      84 cuda_dnn.cc:529] Loaded cuDNN version 90300\n"
     ]
    },
    {
     "name": "stdout",
     "output_type": "stream",
     "text": [
      "\u001b[1m 6/76\u001b[0m \u001b[32m━\u001b[0m\u001b[37m━━━━━━━━━━━━━━━━━━━\u001b[0m \u001b[1m1s\u001b[0m 26ms/step - accuracy: 0.2348 - loss: 3.4941"
     ]
    },
    {
     "name": "stderr",
     "output_type": "stream",
     "text": [
      "I0000 00:00:1758488531.559822      84 device_compiler.h:188] Compiled cluster using XLA!  This line is logged at most once for the lifetime of the process.\n"
     ]
    },
    {
     "name": "stdout",
     "output_type": "stream",
     "text": [
      "\u001b[1m76/76\u001b[0m \u001b[32m━━━━━━━━━━━━━━━━━━━━\u001b[0m\u001b[37m\u001b[0m \u001b[1m15s\u001b[0m 88ms/step - accuracy: 0.6261 - loss: 1.4706 - val_accuracy: 0.4415 - val_loss: 1.6839\n",
      "Epoch 2/15\n",
      "\u001b[1m76/76\u001b[0m \u001b[32m━━━━━━━━━━━━━━━━━━━━\u001b[0m\u001b[37m\u001b[0m \u001b[1m2s\u001b[0m 32ms/step - accuracy: 0.8585 - loss: 0.4598 - val_accuracy: 0.4274 - val_loss: 1.6864\n",
      "Epoch 3/15\n",
      "\u001b[1m76/76\u001b[0m \u001b[32m━━━━━━━━━━━━━━━━━━━━\u001b[0m\u001b[37m\u001b[0m \u001b[1m2s\u001b[0m 32ms/step - accuracy: 0.8956 - loss: 0.3535 - val_accuracy: 0.6647 - val_loss: 1.8582\n",
      "Epoch 4/15\n",
      "\u001b[1m76/76\u001b[0m \u001b[32m━━━━━━━━━━━━━━━━━━━━\u001b[0m\u001b[37m\u001b[0m \u001b[1m2s\u001b[0m 32ms/step - accuracy: 0.9224 - loss: 0.2620 - val_accuracy: 0.6465 - val_loss: 1.4598\n",
      "Epoch 5/15\n",
      "\u001b[1m76/76\u001b[0m \u001b[32m━━━━━━━━━━━━━━━━━━━━\u001b[0m\u001b[37m\u001b[0m \u001b[1m2s\u001b[0m 32ms/step - accuracy: 0.9336 - loss: 0.2253 - val_accuracy: 0.7344 - val_loss: 0.9607\n",
      "Epoch 6/15\n",
      "\u001b[1m76/76\u001b[0m \u001b[32m━━━━━━━━━━━━━━━━━━━━\u001b[0m\u001b[37m\u001b[0m \u001b[1m2s\u001b[0m 32ms/step - accuracy: 0.9333 - loss: 0.1992 - val_accuracy: 0.9012 - val_loss: 0.3869\n",
      "Epoch 7/15\n",
      "\u001b[1m76/76\u001b[0m \u001b[32m━━━━━━━━━━━━━━━━━━━━\u001b[0m\u001b[37m\u001b[0m \u001b[1m2s\u001b[0m 32ms/step - accuracy: 0.9478 - loss: 0.1692 - val_accuracy: 0.9195 - val_loss: 0.2892\n",
      "Epoch 8/15\n",
      "\u001b[1m76/76\u001b[0m \u001b[32m━━━━━━━━━━━━━━━━━━━━\u001b[0m\u001b[37m\u001b[0m \u001b[1m2s\u001b[0m 31ms/step - accuracy: 0.9487 - loss: 0.1725 - val_accuracy: 0.9311 - val_loss: 0.2731\n",
      "Epoch 9/15\n",
      "\u001b[1m76/76\u001b[0m \u001b[32m━━━━━━━━━━━━━━━━━━━━\u001b[0m\u001b[37m\u001b[0m \u001b[1m2s\u001b[0m 33ms/step - accuracy: 0.9565 - loss: 0.1420 - val_accuracy: 0.9369 - val_loss: 0.2264\n",
      "Epoch 10/15\n",
      "\u001b[1m76/76\u001b[0m \u001b[32m━━━━━━━━━━━━━━━━━━━━\u001b[0m\u001b[37m\u001b[0m \u001b[1m2s\u001b[0m 31ms/step - accuracy: 0.9564 - loss: 0.1411 - val_accuracy: 0.9436 - val_loss: 0.2106\n",
      "Epoch 11/15\n",
      "\u001b[1m76/76\u001b[0m \u001b[32m━━━━━━━━━━━━━━━━━━━━\u001b[0m\u001b[37m\u001b[0m \u001b[1m2s\u001b[0m 31ms/step - accuracy: 0.9511 - loss: 0.1541 - val_accuracy: 0.9469 - val_loss: 0.2244\n",
      "Epoch 12/15\n",
      "\u001b[1m76/76\u001b[0m \u001b[32m━━━━━━━━━━━━━━━━━━━━\u001b[0m\u001b[37m\u001b[0m \u001b[1m2s\u001b[0m 31ms/step - accuracy: 0.9565 - loss: 0.1345 - val_accuracy: 0.8938 - val_loss: 0.4152\n",
      "Epoch 13/15\n",
      "\u001b[1m76/76\u001b[0m \u001b[32m━━━━━━━━━━━━━━━━━━━━\u001b[0m\u001b[37m\u001b[0m \u001b[1m2s\u001b[0m 32ms/step - accuracy: 0.9610 - loss: 0.1247 - val_accuracy: 0.8963 - val_loss: 0.3560\n",
      "Epoch 14/15\n",
      "\u001b[1m76/76\u001b[0m \u001b[32m━━━━━━━━━━━━━━━━━━━━\u001b[0m\u001b[37m\u001b[0m \u001b[1m2s\u001b[0m 31ms/step - accuracy: 0.9681 - loss: 0.1022 - val_accuracy: 0.9203 - val_loss: 0.3154\n",
      "Epoch 15/15\n",
      "\u001b[1m76/76\u001b[0m \u001b[32m━━━━━━━━━━━━━━━━━━━━\u001b[0m\u001b[37m\u001b[0m \u001b[1m2s\u001b[0m 31ms/step - accuracy: 0.9633 - loss: 0.1273 - val_accuracy: 0.9502 - val_loss: 0.2237\n"
     ]
    }
   ],
   "source": [
    "history = model.fit(datagen.flow(X_train, y_train, batch_size=64),\n",
    "                    validation_data=(X_test, y_test),\n",
    "                    epochs=15)\n"
   ]
  },
  {
   "cell_type": "markdown",
   "id": "dc9aa067",
   "metadata": {
    "papermill": {
     "duration": 0.02808,
     "end_time": "2025-09-21T21:02:52.331933",
     "exception": false,
     "start_time": "2025-09-21T21:02:52.303853",
     "status": "completed"
    },
    "tags": []
   },
   "source": [
    "## Evaluate Model"
   ]
  },
  {
   "cell_type": "code",
   "execution_count": 17,
   "id": "cd2343ae",
   "metadata": {
    "execution": {
     "iopub.execute_input": "2025-09-21T21:02:52.433827Z",
     "iopub.status.busy": "2025-09-21T21:02:52.433253Z",
     "iopub.status.idle": "2025-09-21T21:02:52.636819Z",
     "shell.execute_reply": "2025-09-21T21:02:52.636060Z"
    },
    "papermill": {
     "duration": 0.27777,
     "end_time": "2025-09-21T21:02:52.638007",
     "exception": false,
     "start_time": "2025-09-21T21:02:52.360237",
     "status": "completed"
    },
    "tags": []
   },
   "outputs": [
    {
     "name": "stdout",
     "output_type": "stream",
     "text": [
      "✅ Test Accuracy: 95.02%\n"
     ]
    }
   ],
   "source": [
    "loss, acc = model.evaluate(X_test, y_test, verbose=0)\n",
    "print(f\"✅ Test Accuracy: {acc*100:.2f}%\")\n"
   ]
  },
  {
   "cell_type": "code",
   "execution_count": 18,
   "id": "454e3249",
   "metadata": {
    "execution": {
     "iopub.execute_input": "2025-09-21T21:02:52.697993Z",
     "iopub.status.busy": "2025-09-21T21:02:52.697747Z",
     "iopub.status.idle": "2025-09-21T21:02:53.012843Z",
     "shell.execute_reply": "2025-09-21T21:02:53.012080Z"
    },
    "papermill": {
     "duration": 0.345978,
     "end_time": "2025-09-21T21:02:53.013976",
     "exception": false,
     "start_time": "2025-09-21T21:02:52.667998",
     "status": "completed"
    },
    "tags": []
   },
   "outputs": [
    {
     "data": {
      "text/plain": [
       "<matplotlib.legend.Legend at 0x797c84590210>"
      ]
     },
     "execution_count": 18,
     "metadata": {},
     "output_type": "execute_result"
    },
    {
     "data": {
      "image/png": "[encoded data removed]",
      "text/plain": [
       "<Figure size 1200x400 with 1 Axes>"
      ]
     },
     "metadata": {},
     "output_type": "display_data"
    }
   ],
   "source": [
    "# Plot accuracy & loss curves\n",
    "plt.figure(figsize=(12,4))\n",
    "plt.subplot(1,2,1)\n",
    "plt.plot(history.history[\"accuracy\"], label=\"Train\")\n",
    "plt.plot(history.history[\"val_accuracy\"], label=\"Validation\")\n",
    "plt.title(\"Accuracy\")\n",
    "plt.legend()"
   ]
  },
  {
   "cell_type": "code",
   "execution_count": 19,
   "id": "8bbd9b34",
   "metadata": {
    "execution": {
     "iopub.execute_input": "2025-09-21T21:02:53.075096Z",
     "iopub.status.busy": "2025-09-21T21:02:53.074547Z",
     "iopub.status.idle": "2025-09-21T21:02:53.205806Z",
     "shell.execute_reply": "2025-09-21T21:02:53.205199Z"
    },
    "papermill": {
     "duration": 0.162254,
     "end_time": "2025-09-21T21:02:53.207033",
     "exception": false,
     "start_time": "2025-09-21T21:02:53.044779",
     "status": "completed"
    },
    "tags": []
   },
   "outputs": [
    {
     "data": {
      "image/png": "[encoded data removed]",
      "text/plain": [
       "<Figure size 640x480 with 1 Axes>"
      ]
     },
     "metadata": {},
     "output_type": "display_data"
    }
   ],
   "source": [
    "plt.subplot(1,2,2)\n",
    "plt.plot(history.history[\"loss\"], label=\"Train\")\n",
    "plt.plot(history.history[\"val_loss\"], label=\"Validation\")\n",
    "plt.title(\"Loss\")\n",
    "plt.legend()\n",
    "plt.show()"
   ]
  },
  {
   "cell_type": "code",
   "execution_count": 20,
   "id": "3890fc3e",
   "metadata": {
    "execution": {
     "iopub.execute_input": "2025-09-21T21:02:53.268100Z",
     "iopub.status.busy": "2025-09-21T21:02:53.267912Z",
     "iopub.status.idle": "2025-09-21T21:02:54.525014Z",
     "shell.execute_reply": "2025-09-21T21:02:54.523956Z"
    },
    "papermill": {
     "duration": 1.288452,
     "end_time": "2025-09-21T21:02:54.526431",
     "exception": false,
     "start_time": "2025-09-21T21:02:53.237979",
     "status": "completed"
    },
    "tags": []
   },
   "outputs": [
    {
     "name": "stdout",
     "output_type": "stream",
     "text": [
      "\u001b[1m38/38\u001b[0m \u001b[32m━━━━━━━━━━━━━━━━━━━━\u001b[0m\u001b[37m\u001b[0m \u001b[1m1s\u001b[0m 13ms/step\n"
     ]
    },
    {
     "data": {
      "image/png": "[encoded data removed]",
      "text/plain": [
       "<Figure size 1200x800 with 2 Axes>"
      ]
     },
     "metadata": {},
     "output_type": "display_data"
    },
    {
     "name": "stdout",
     "output_type": "stream",
     "text": [
      "              precision    recall  f1-score   support\n",
      "\n",
      "           0       0.97      1.00      0.98       113\n",
      "           1       0.98      0.96      0.97       626\n",
      "           2       0.86      0.96      0.91        26\n",
      "           3       1.00      0.95      0.98        22\n",
      "           4       0.95      0.85      0.90        47\n",
      "           5       0.84      1.00      0.91        16\n",
      "           6       0.92      0.95      0.93       230\n",
      "           7       0.87      0.88      0.88        52\n",
      "           8       0.82      0.97      0.89        29\n",
      "           9       0.93      0.89      0.91        44\n",
      "\n",
      "    accuracy                           0.95      1205\n",
      "   macro avg       0.91      0.94      0.93      1205\n",
      "weighted avg       0.95      0.95      0.95      1205\n",
      "\n"
     ]
    }
   ],
   "source": [
    "# Confusion Matrix\n",
    "\n",
    "y_pred = np.argmax(model.predict(X_test), axis=1)\n",
    "y_true = np.argmax(y_test, axis=1)\n",
    "\n",
    "cm = confusion_matrix(y_true, y_pred)\n",
    "\n",
    "plt.figure(figsize=(12,8))\n",
    "sns.heatmap(cm, annot=False, cmap=\"Blues\")\n",
    "plt.title(\"Confusion Matrix\")\n",
    "plt.xlabel(\"Predicted\")\n",
    "plt.ylabel(\"True\")\n",
    "plt.show()\n",
    "\n",
    "print(classification_report(y_true, y_pred))"
   ]
  },
  {
   "cell_type": "markdown",
   "id": "cd69e104",
   "metadata": {
    "papermill": {
     "duration": 0.030136,
     "end_time": "2025-09-21T21:02:54.591025",
     "exception": false,
     "start_time": "2025-09-21T21:02:54.560889",
     "status": "completed"
    },
    "tags": []
   },
   "source": [
    "## Predict Random Data "
   ]
  },
  {
   "cell_type": "code",
   "execution_count": 21,
   "id": "bbd08f14",
   "metadata": {
    "execution": {
     "iopub.execute_input": "2025-09-21T21:02:54.653751Z",
     "iopub.status.busy": "2025-09-21T21:02:54.653492Z",
     "iopub.status.idle": "2025-09-21T21:02:56.668074Z",
     "shell.execute_reply": "2025-09-21T21:02:56.667395Z"
    },
    "papermill": {
     "duration": 2.047892,
     "end_time": "2025-09-21T21:02:56.669878",
     "exception": false,
     "start_time": "2025-09-21T21:02:54.621986",
     "status": "completed"
    },
    "tags": []
   },
   "outputs": [
    {
     "name": "stdout",
     "output_type": "stream",
     "text": [
      "\u001b[1m1/1\u001b[0m \u001b[32m━━━━━━━━━━━━━━━━━━━━\u001b[0m\u001b[37m\u001b[0m \u001b[1m0s\u001b[0m 485ms/step\n",
      "\u001b[1m1/1\u001b[0m \u001b[32m━━━━━━━━━━━━━━━━━━━━\u001b[0m\u001b[37m\u001b[0m \u001b[1m0s\u001b[0m 29ms/step\n",
      "\u001b[1m1/1\u001b[0m \u001b[32m━━━━━━━━━━━━━━━━━━━━\u001b[0m\u001b[37m\u001b[0m \u001b[1m0s\u001b[0m 29ms/step\n",
      "\u001b[1m1/1\u001b[0m \u001b[32m━━━━━━━━━━━━━━━━━━━━\u001b[0m\u001b[37m\u001b[0m \u001b[1m0s\u001b[0m 30ms/step\n",
      "\u001b[1m1/1\u001b[0m \u001b[32m━━━━━━━━━━━━━━━━━━━━\u001b[0m\u001b[37m\u001b[0m \u001b[1m0s\u001b[0m 30ms/step\n",
      "\u001b[1m1/1\u001b[0m \u001b[32m━━━━━━━━━━━━━━━━━━━━\u001b[0m\u001b[37m\u001b[0m \u001b[1m0s\u001b[0m 29ms/step\n",
      "\u001b[1m1/1\u001b[0m \u001b[32m━━━━━━━━━━━━━━━━━━━━\u001b[0m\u001b[37m\u001b[0m \u001b[1m0s\u001b[0m 29ms/step\n",
      "\u001b[1m1/1\u001b[0m \u001b[32m━━━━━━━━━━━━━━━━━━━━\u001b[0m\u001b[37m\u001b[0m \u001b[1m0s\u001b[0m 35ms/step\n",
      "\u001b[1m1/1\u001b[0m \u001b[32m━━━━━━━━━━━━━━━━━━━━\u001b[0m\u001b[37m\u001b[0m \u001b[1m0s\u001b[0m 28ms/step\n",
      "\u001b[1m1/1\u001b[0m \u001b[32m━━━━━━━━━━━━━━━━━━━━\u001b[0m\u001b[37m\u001b[0m \u001b[1m0s\u001b[0m 29ms/step\n",
      "\u001b[1m1/1\u001b[0m \u001b[32m━━━━━━━━━━━━━━━━━━━━\u001b[0m\u001b[37m\u001b[0m \u001b[1m0s\u001b[0m 29ms/step\n",
      "\u001b[1m1/1\u001b[0m \u001b[32m━━━━━━━━━━━━━━━━━━━━\u001b[0m\u001b[37m\u001b[0m \u001b[1m0s\u001b[0m 28ms/step\n"
     ]
    },
    {
     "data": {
      "image/png": "[encoded data removed]",
      "text/plain": [
       "<Figure size 1500x800 with 12 Axes>"
      ]
     },
     "metadata": {},
     "output_type": "display_data"
    }
   ],
   "source": [
    "import random\n",
    "\n",
    "# Pick random samples from test set\n",
    "indices = random.sample(range(len(X_test)), 12)\n",
    "\n",
    "plt.figure(figsize=(15, 8))\n",
    "for i, idx in enumerate(indices):\n",
    "    plt.subplot(3, 4, i+1)\n",
    "    \n",
    "    img = X_test[idx]\n",
    "    true_label = np.argmax(y_test[idx])\n",
    "    pred_label = np.argmax(model.predict(img.reshape(1, img_size, img_size, 3)))\n",
    "    \n",
    "    plt.imshow(img)\n",
    "    plt.axis(\"off\")\n",
    "    color = \"green\" if true_label == pred_label else \"red\"\n",
    "    plt.title(f\"True: {true_label}\\nPred: {pred_label}\", color=color)\n",
    "\n",
    "plt.tight_layout()\n",
    "plt.show()\n"
   ]
  },
  {
   "cell_type": "markdown",
   "id": "9b119e1c",
   "metadata": {
    "papermill": {
     "duration": 0.032804,
     "end_time": "2025-09-21T21:02:56.737245",
     "exception": false,
     "start_time": "2025-09-21T21:02:56.704441",
     "status": "completed"
    },
    "tags": []
   },
   "source": [
    "## Save Model"
   ]
  },
  {
   "cell_type": "code",
   "execution_count": 22,
   "id": "f5dbf51d",
   "metadata": {
    "execution": {
     "iopub.execute_input": "2025-09-21T21:02:56.806332Z",
     "iopub.status.busy": "2025-09-21T21:02:56.806127Z",
     "iopub.status.idle": "2025-09-21T21:02:56.876447Z",
     "shell.execute_reply": "2025-09-21T21:02:56.875897Z"
    },
    "papermill": {
     "duration": 0.106745,
     "end_time": "2025-09-21T21:02:56.877569",
     "exception": false,
     "start_time": "2025-09-21T21:02:56.770824",
     "status": "completed"
    },
    "tags": []
   },
   "outputs": [],
   "source": [
    "# Save model\n",
    "model.save(\"traffic_sign_cnn.h5\")\n",
    "\n",
    "# Load model later\n",
    "#from tensorflow.keras.models import load_model\n",
    "#loaded_model = load_model(\"traffic_sign_cnn.h5\")\n",
    "\n",
    "# Test it works\n",
    "#loss, acc = loaded_model.evaluate(X_test, y_test, verbose=0)\n",
    "#print(f\"Loaded model accuracy: {acc*100:.2f}%\")\n"
   ]
  }
 ],
 "metadata": {
  "kaggle": {
   "accelerator": "nvidiaTeslaT4",
   "dataSources": [
    {
     "datasetId": 1809939,
     "sourceId": 2952205,
     "sourceType": "datasetVersion"
    }
   ],
   "dockerImageVersionId": 31090,
   "isGpuEnabled": true,
   "isInternetEnabled": true,
   "language": "python",
   "sourceType": "notebook"
  },
  "kernelspec": {
   "display_name": "Python 3",
   "language": "python",
   "name": "python3"
  },
  "language_info": {
   "codemirror_mode": {
    "name": "ipython",
    "version": 3
   },
   "file_extension": ".py",
   "mimetype": "text/x-python",
   "name": "python",
   "nbconvert_exporter": "python",
   "pygments_lexer": "ipython3",
   "version": "3.11.13"
  },
  "papermill": {
   "default_parameters": {},
   "duration": 133.223117,
   "end_time": "2025-09-21T21:03:00.177820",
   "environment_variables": {},
   "exception": null,
   "input_path": "__notebook__.ipynb",
   "output_path": "__notebook__.ipynb",
   "parameters": {},
   "start_time": "2025-09-21T21:00:46.954703",
   "version": "2.6.0"
  }
 },
 "nbformat": 4,
 "nbformat_minor": 5
}
